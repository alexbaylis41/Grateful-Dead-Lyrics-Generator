{
 "cells": [
  {
   "cell_type": "code",
   "execution_count": 1,
   "metadata": {
    "execution": {
     "iopub.execute_input": "2021-01-24T13:05:27.046604Z",
     "iopub.status.busy": "2021-01-24T13:05:27.045653Z",
     "iopub.status.idle": "2021-01-24T13:05:33.238937Z",
     "shell.execute_reply": "2021-01-24T13:05:33.237303Z"
    },
    "id": "j73vCvAmX0vq",
    "papermill": {
     "duration": 6.229429,
     "end_time": "2021-01-24T13:05:33.239066",
     "exception": false,
     "start_time": "2021-01-24T13:05:27.009637",
     "status": "completed"
    },
    "tags": []
   },
   "outputs": [],
   "source": [
    "import tensorflow as tf\n",
    "import numpy as np\n",
    "import os\n",
    "import datetime\n",
    "import pandas as pd\n",
    "import re\n",
    "import pprint\n",
    "import functools\n",
    "import sys\n"
   ]
  },
  {
   "cell_type": "markdown",
   "metadata": {
    "id": "e2v6V_Hozo4S",
    "papermill": {
     "duration": 0.026336,
     "end_time": "2021-01-24T13:05:33.293755",
     "exception": false,
     "start_time": "2021-01-24T13:05:33.267419",
     "status": "completed"
    },
    "tags": []
   },
   "source": [
    "# Create the Training dataset\n"
   ]
  },
  {
   "cell_type": "code",
   "execution_count": 2,
   "metadata": {
    "execution": {
     "iopub.execute_input": "2021-01-24T13:05:33.365714Z",
     "iopub.status.busy": "2021-01-24T13:05:33.365037Z",
     "iopub.status.idle": "2021-01-24T13:05:34.211293Z",
     "shell.execute_reply": "2021-01-24T13:05:34.210668Z"
    },
    "id": "xhB7y-GmX0vt",
    "outputId": "a18450e5-b96f-44bb-c105-a964e0c1fb0e",
    "papermill": {
     "duration": 0.890835,
     "end_time": "2021-01-24T13:05:34.211438",
     "exception": false,
     "start_time": "2021-01-24T13:05:33.320603",
     "status": "completed"
    },
    "tags": []
   },
   "outputs": [
    {
     "name": "stdout",
     "output_type": "stream",
     "text": [
      "                                                                                                                                                                                   Thirty two teeth in a jawbone                                                                                                                                                                 \n",
      " Alabama cryin for none                                                                                                                                                                        \n",
      " Before I have to hit him                                                                                                                                                                      \n",
      " I hope he's got the sense to run                                                                                                                                                              \n",
      " Reason those poor girls love him                     \n"
     ]
    }
   ],
   "source": [
    "# Import Dataframe from desktop\n",
    "Filepath = '../input/dead-lyrics-5/Dead_lyrics5_CSV.csv'\n",
    "df = pd.read_csv(Filepath)\n",
    "\n",
    "#Left align text from csv\n",
    "def left_justified(df):\n",
    "    formatters = {}\n",
    "    for li in list(df.columns):\n",
    "        max = df[li].str.len().max()\n",
    "        form = \"{{:<{}s}}\".format(max)\n",
    "        formatters[li] = functools.partial(str.format, form)\n",
    "    return df.to_string(formatters=formatters, index=False)\n",
    "\n",
    "df2 = left_justified(df)\n",
    "\n",
    "\n",
    "# Use regex to find and remove song titles and unwanted characters from lyrics\n",
    "def remove_characters(str1):\n",
    "    result = re.sub(r\"[A-Z'(]{2,}[^a-z]\", \" \", str1)\n",
    "    result2 = re.sub(r\"\\[*]*\\\\*\", \"\", result)\n",
    "    result3 = re.sub(r\"((,)?\\*?)\", \"\", result2)\n",
    "    result4 = re.sub(r\"[0-9]\", \"\", result3)\n",
    "    return result4\n",
    "\n",
    "no_caps = remove_characters(df2)\n",
    "\n",
    "#Extra words/characters we dont want in lyrics data\n",
    "l_string = no_caps.replace('/', ' ').replace('(note)', ' ').replace('(note )', ' ').replace('(note a)', ' ')\\\n",
    ".replace('(note a)', ' ').replace('(note b)', ' ').replace('(note c)', ' ').replace('(note d)', ' ')\\\n",
    ".replace('(note e)', ' ').replace('(note f)', ' ').replace('(note g)', ' ')\n",
    "\n",
    "print(no_caps[:1000])\n",
    "\n"
   ]
  },
  {
   "cell_type": "code",
   "execution_count": 3,
   "metadata": {
    "execution": {
     "iopub.execute_input": "2021-01-24T13:05:34.275749Z",
     "iopub.status.busy": "2021-01-24T13:05:34.274940Z",
     "iopub.status.idle": "2021-01-24T13:05:34.281621Z",
     "shell.execute_reply": "2021-01-24T13:05:34.280907Z"
    },
    "id": "ijjla6KiozJC",
    "outputId": "a81b232f-cfbd-4a03-bdd8-561631043548",
    "papermill": {
     "duration": 0.04231,
     "end_time": "2021-01-24T13:05:34.281757",
     "exception": false,
     "start_time": "2021-01-24T13:05:34.239447",
     "status": "completed"
    },
    "tags": []
   },
   "outputs": [
    {
     "name": "stdout",
     "output_type": "stream",
     "text": [
      "100605\n",
      "Thirty two teeth in a jawbone Alabama cryin for none Before I have to hit him I hope he's got the sense to run Reason those poor girls love him Promise them anything Reason they believe him He wears a big diamond ring Alabama getaway Alabama getaway Only way to please me Turn around and leave and walk away Majordomo Billy Bojangles Sit down and have a drink with me What's this about Alabama Keeps comin back to me? Heard your plea in the courthouse Jurybox began to rock and rise Forty-nine sister\n"
     ]
    }
   ],
   "source": [
    "#Get rid of empty spaces in string\n",
    "lyrics_split = \" \".join(l_string.split())\n",
    "\n",
    "# View the length of the data and the first 500 characters\n",
    "print(len(lyrics_split))\n",
    "print(lyrics_split[:500]) "
   ]
  },
  {
   "cell_type": "code",
   "execution_count": 4,
   "metadata": {
    "execution": {
     "iopub.execute_input": "2021-01-24T13:05:34.344020Z",
     "iopub.status.busy": "2021-01-24T13:05:34.343194Z",
     "iopub.status.idle": "2021-01-24T13:05:34.349299Z",
     "shell.execute_reply": "2021-01-24T13:05:34.348576Z"
    },
    "id": "gHK60gpMX0vx",
    "outputId": "1d4d58fd-0d68-40d3-edfb-e36cf2c19c68",
    "papermill": {
     "duration": 0.039569,
     "end_time": "2021-01-24T13:05:34.349446",
     "exception": false,
     "start_time": "2021-01-24T13:05:34.309877",
     "status": "completed"
    },
    "tags": []
   },
   "outputs": [
    {
     "name": "stdout",
     "output_type": "stream",
     "text": [
      "[' ', '!', '\"', \"'\", '(', ')', '-', '.', ':', ';', '?', 'A', 'B', 'C', 'D', 'E', 'F', 'G', 'H', 'I', 'J', 'K', 'L', 'M', 'N', 'O', 'P', 'Q', 'R', 'S', 'T', 'U', 'V', 'W', 'X', 'Y', 'Z', 'a', 'b', 'c', 'd', 'e', 'f', 'g', 'h', 'i', 'j', 'k', 'l', 'm', 'n', 'o', 'p', 'q', 'r', 's', 't', 'u', 'v', 'w', 'x', 'y', 'z', 'é', '…']\n",
      " \"\n",
      " Number of unique characters: 65\n"
     ]
    }
   ],
   "source": [
    "\n",
    "# Create a set of the unique characters featured in lyrics_split\n",
    "#This will be our vocabulary\n",
    "vocab = sorted(set(lyrics_split))\n",
    "\n",
    "print(vocab[:100])\n",
    "print(f' \"\\n Number of unique characters: {len(vocab)}')"
   ]
  },
  {
   "cell_type": "markdown",
   "metadata": {
    "id": "Hv_OsjLMX0vx",
    "papermill": {
     "duration": 0.029039,
     "end_time": "2021-01-24T13:05:34.407002",
     "exception": false,
     "start_time": "2021-01-24T13:05:34.377963",
     "status": "completed"
    },
    "tags": []
   },
   "source": [
    "# Process the text\n",
    "\n",
    "## Vectorise the text\n",
    "\n",
    "Before training, we need to map strings to a numerical representation. To do this, lets create two lookup tables: one mapping characters to numbers, and another for numbers to characters."
   ]
  },
  {
   "cell_type": "code",
   "execution_count": 5,
   "metadata": {
    "execution": {
     "iopub.execute_input": "2021-01-24T13:05:34.502766Z",
     "iopub.status.busy": "2021-01-24T13:05:34.501703Z",
     "iopub.status.idle": "2021-01-24T13:05:34.520708Z",
     "shell.execute_reply": "2021-01-24T13:05:34.519855Z"
    },
    "id": "f9PMYdc7X0vy",
    "outputId": "fd34ec57-3fa3-47f7-facd-a3ff87cab982",
    "papermill": {
     "duration": 0.086372,
     "end_time": "2021-01-24T13:05:34.520861",
     "exception": false,
     "start_time": "2021-01-24T13:05:34.434489",
     "status": "completed"
    },
    "tags": []
   },
   "outputs": [
    {
     "name": "stdout",
     "output_type": "stream",
     "text": [
      "{\n",
      "  ' ' :   0,\n",
      "  '!' :   1,\n",
      "  '\"' :   2,\n",
      "  \"'\" :   3,\n",
      "  '(' :   4,\n",
      "  ')' :   5,\n",
      "  '-' :   6,\n",
      "  '.' :   7,\n",
      "  ':' :   8,\n",
      "  ';' :   9,\n",
      "  '?' :  10,\n",
      "  'A' :  11,\n",
      "  'B' :  12,\n",
      "  'C' :  13,\n",
      "  'D' :  14,\n",
      "  'E' :  15,\n",
      "  'F' :  16,\n",
      "  'G' :  17,\n",
      "  'H' :  18,\n",
      "  'I' :  19,\n",
      "  'J' :  20,\n",
      "  'K' :  21,\n",
      "  'L' :  22,\n",
      "  'M' :  23,\n",
      "  'N' :  24,\n",
      "  'O' :  25,\n",
      "  'P' :  26,\n",
      "  'Q' :  27,\n",
      "  'R' :  28,\n",
      "  'S' :  29,\n",
      "  'T' :  30,\n",
      "  'U' :  31,\n",
      "  'V' :  32,\n",
      "  'W' :  33,\n",
      "  'X' :  34,\n",
      "  'Y' :  35,\n",
      "  'Z' :  36,\n",
      "  'a' :  37,\n",
      "  'b' :  38,\n",
      "  'c' :  39,\n",
      "  'd' :  40,\n",
      "  'e' :  41,\n",
      "  'f' :  42,\n",
      "  'g' :  43,\n",
      "  'h' :  44,\n",
      "  'i' :  45,\n",
      "  'j' :  46,\n",
      "  'k' :  47,\n",
      "  'l' :  48,\n",
      "  'm' :  49,\n",
      "  'n' :  50,\n",
      "  'o' :  51,\n",
      "  'p' :  52,\n",
      "  'q' :  53,\n",
      "  'r' :  54,\n",
      "  's' :  55,\n",
      "  't' :  56,\n",
      "  'u' :  57,\n",
      "  'v' :  58,\n",
      "  'w' :  59,\n",
      "  'x' :  60,\n",
      "  'y' :  61,\n",
      "  'z' :  62,\n",
      "  'é' :  63,\n",
      "  '…' :  64,\n",
      "  ...\n",
      "}\n"
     ]
    }
   ],
   "source": [
    "# Creating a mapping from unique characters to indices\n",
    "char2idx = {u:i for i, u in enumerate(vocab)}\n",
    "\n",
    "idx2char = np.array(vocab)\n",
    "text_as_int = np.array([char2idx[c] for c in lyrics_split])\n",
    "\n",
    "#Now you have an integer representation for each character. \n",
    "#Notice that you mapped the character as indexes from 0 to len(unique).\n",
    "\n",
    "print('{')\n",
    "for char,_ in zip(char2idx, range(65)):\n",
    "    print('  {:4s}: {:3d},'.format(repr(char), char2idx[char]))\n",
    "print('  ...\\n}')"
   ]
  },
  {
   "cell_type": "code",
   "execution_count": 6,
   "metadata": {
    "execution": {
     "iopub.execute_input": "2021-01-24T13:05:34.593291Z",
     "iopub.status.busy": "2021-01-24T13:05:34.592540Z",
     "iopub.status.idle": "2021-01-24T13:05:34.597222Z",
     "shell.execute_reply": "2021-01-24T13:05:34.597726Z"
    },
    "id": "5X_iLMqMX0vy",
    "outputId": "63e3b9c8-781a-48e0-8dd4-55f9d2b075eb",
    "papermill": {
     "duration": 0.039606,
     "end_time": "2021-01-24T13:05:34.597854",
     "exception": false,
     "start_time": "2021-01-24T13:05:34.558248",
     "status": "completed"
    },
    "tags": []
   },
   "outputs": [
    {
     "name": "stdout",
     "output_type": "stream",
     "text": [
      "\"Thirty two teeth in a jawbone Alabama cryin for none Before I have to hit him I hope he's got the se\" ---- characters mapped to int ---- > [30 44 45 54 56 61  0 56 59 51  0 56 41 41 56 44  0 45 50  0 37  0 46 37\n",
      " 59 38 51 50 41  0 11 48 37 38 37 49 37  0 39 54 61 45 50  0 42 51 54  0\n",
      " 50 51 50 41  0 12 41 42 51 54 41  0 19  0 44 37 58 41  0 56 51  0 44 45\n",
      " 56  0 44 45 49  0 19  0 44 51 52 41  0 44 41  3 55  0 43 51 56  0 56 44\n",
      " 41  0 55 41]\n"
     ]
    }
   ],
   "source": [
    "# Show how the first 13 characters from the text are mapped to integers\n",
    "print('{} ---- characters mapped to int ---- > {}'.format(repr(lyrics_split[:100]), text_as_int[:100]))\n"
   ]
  },
  {
   "cell_type": "markdown",
   "metadata": {
    "id": "Pr0zQpG0X0vz",
    "papermill": {
     "duration": 0.028598,
     "end_time": "2021-01-24T13:05:34.655100",
     "exception": false,
     "start_time": "2021-01-24T13:05:34.626502",
     "status": "completed"
    },
    "tags": []
   },
   "source": [
    "## Create training examples and targets\n",
    "\n",
    "Next divide the text into example sequences. Each input sequence will contain seq_length characters from the text.\n",
    "\n",
    "For each input sequence, the corresponding targets contain the same length of text, except shifted one character to the right.\n",
    "\n",
    "So break the text into chunks of seq_length+1. For example, say seq_length is 4 and our text is \"Hello\". The input sequence would be \"Hell\", and the target sequence \"ello\".\n",
    "\n",
    "To do this first use the tf.data.Dataset.from_tensor_slices function to convert the text vector into a stream of character indices."
   ]
  },
  {
   "cell_type": "code",
   "execution_count": 7,
   "metadata": {
    "execution": {
     "iopub.execute_input": "2021-01-24T13:05:37.912586Z",
     "iopub.status.busy": "2021-01-24T13:05:37.911751Z",
     "iopub.status.idle": "2021-01-24T13:05:37.985960Z",
     "shell.execute_reply": "2021-01-24T13:05:37.986939Z"
    },
    "id": "BnVZMQDfX0vz",
    "outputId": "1de2127c-eddd-4f81-e932-14b23fe3db16",
    "papermill": {
     "duration": 3.302539,
     "end_time": "2021-01-24T13:05:37.987090",
     "exception": false,
     "start_time": "2021-01-24T13:05:34.684551",
     "status": "completed"
    },
    "tags": []
   },
   "outputs": [
    {
     "name": "stdout",
     "output_type": "stream",
     "text": [
      "T\n",
      "h\n",
      "i\n",
      "r\n",
      "t\n"
     ]
    }
   ],
   "source": [
    "# The maximum length of sentence you want for a single input, in characters\n",
    "seq_length = 100\n",
    "examples_per_epoch = len(l_string)//(seq_length+1)\n",
    "\n",
    "# Create training examples / targets\n",
    "# Use the tf.data.Dataset to create a sourse dataset from input data \n",
    "# Makes it easy to perfrom transformations to the data.\n",
    "char_dataset = tf.data.Dataset.from_tensor_slices(text_as_int)\n",
    "\n",
    "for i in char_dataset.take(5):\n",
    "    print(idx2char[i.numpy()])\n",
    "    "
   ]
  },
  {
   "cell_type": "code",
   "execution_count": 8,
   "metadata": {
    "execution": {
     "iopub.execute_input": "2021-01-24T13:05:38.053793Z",
     "iopub.status.busy": "2021-01-24T13:05:38.052865Z",
     "iopub.status.idle": "2021-01-24T13:05:38.065674Z",
     "shell.execute_reply": "2021-01-24T13:05:38.066389Z"
    },
    "id": "N0Wa1BzvX0v0",
    "outputId": "7d539828-576f-48f8-e36b-c30a955b1916",
    "papermill": {
     "duration": 0.050003,
     "end_time": "2021-01-24T13:05:38.066560",
     "exception": false,
     "start_time": "2021-01-24T13:05:38.016557",
     "status": "completed"
    },
    "tags": []
   },
   "outputs": [
    {
     "name": "stdout",
     "output_type": "stream",
     "text": [
      "\"Thirty two teeth in a jawbone Alabama cryin for none Before I have to hit him I hope he's got the sen\"\n",
      "'se to run Reason those poor girls love him Promise them anything Reason they believe him He wears a b'\n",
      "'ig diamond ring Alabama getaway Alabama getaway Only way to please me Turn around and leave and walk '\n",
      "\"away Majordomo Billy Bojangles Sit down and have a drink with me What's this about Alabama Keeps comi\"\n",
      "'n back to me? Heard your plea in the courthouse Jurybox began to rock and rise Forty-nine sister stat'\n"
     ]
    }
   ],
   "source": [
    "# The 'batch' method lets us easily convert these individual charaters to sequences of the desired size.\n",
    "\n",
    "sequences = char_dataset.batch(seq_length+1, drop_remainder=True)\n",
    "\n",
    "for item in sequences.take(5):\n",
    "    print(repr(''.join(idx2char[item.numpy()])))"
   ]
  },
  {
   "cell_type": "markdown",
   "metadata": {
    "id": "6Hcbzpk0X0v0",
    "papermill": {
     "duration": 0.02918,
     "end_time": "2021-01-24T13:05:38.125998",
     "exception": false,
     "start_time": "2021-01-24T13:05:38.096818",
     "status": "completed"
    },
    "tags": []
   },
   "source": [
    "For each sequence, duplicate and shift it to form the input and target text by using the map method to apply a simple function to each batch:"
   ]
  },
  {
   "cell_type": "code",
   "execution_count": 9,
   "metadata": {
    "execution": {
     "iopub.execute_input": "2021-01-24T13:05:38.193629Z",
     "iopub.status.busy": "2021-01-24T13:05:38.192745Z",
     "iopub.status.idle": "2021-01-24T13:05:38.309961Z",
     "shell.execute_reply": "2021-01-24T13:05:38.310766Z"
    },
    "id": "q13bzQ4rX0v1",
    "outputId": "c319ef08-2228-4bf6-ebdc-6b44c569e8ff",
    "papermill": {
     "duration": 0.155624,
     "end_time": "2021-01-24T13:05:38.310938",
     "exception": false,
     "start_time": "2021-01-24T13:05:38.155314",
     "status": "completed"
    },
    "tags": []
   },
   "outputs": [
    {
     "name": "stdout",
     "output_type": "stream",
     "text": [
      "Input data:  \"Thirty two teeth in a jawbone Alabama cryin for none Before I have to hit him I hope he's got the se\"\n",
      "Target data: \"hirty two teeth in a jawbone Alabama cryin for none Before I have to hit him I hope he's got the sen\"\n"
     ]
    }
   ],
   "source": [
    "# For each sequence, duplicate and shift it to form the input and target text by using the map method \n",
    "# to apply a simple function to each batch:\n",
    "def split_input_target(chunk):\n",
    "    input_text = chunk[:-1]\n",
    "    target_text = chunk[1:]\n",
    "    return input_text, target_text\n",
    "\n",
    "dataset = sequences.map(split_input_target)\n",
    "\n",
    "for input_example, target_example in  dataset.take(1):\n",
    "    print('Input data: ', repr(''.join(idx2char[input_example.numpy()])))\n",
    "    print('Target data:', repr(''.join(idx2char[target_example.numpy()])))"
   ]
  },
  {
   "cell_type": "markdown",
   "metadata": {
    "id": "8-bQcz0_X0v1",
    "papermill": {
     "duration": 0.030673,
     "end_time": "2021-01-24T13:05:38.371820",
     "exception": false,
     "start_time": "2021-01-24T13:05:38.341147",
     "status": "completed"
    },
    "tags": []
   },
   "source": [
    "Each index of these vectors is processed as a one time step. For the input at time step 0, the model receives the index for \"T\" and tries to predict the index for \"h\" as the next character. \n",
    "\n",
    "At the next timestep, it does the same thing but the RNN considers the previous step context in addition to the current input character.\n",
    "\n",
    "Here is an example of what it is doing:\n"
   ]
  },
  {
   "cell_type": "code",
   "execution_count": 10,
   "metadata": {
    "execution": {
     "iopub.execute_input": "2021-01-24T13:05:38.439010Z",
     "iopub.status.busy": "2021-01-24T13:05:38.438133Z",
     "iopub.status.idle": "2021-01-24T13:05:38.745708Z",
     "shell.execute_reply": "2021-01-24T13:05:38.746199Z"
    },
    "id": "G3hjy7lyX0v2",
    "outputId": "7830d1ad-23cb-4286-a533-f9e5f3f84913",
    "papermill": {
     "duration": 0.344193,
     "end_time": "2021-01-24T13:05:38.746331",
     "exception": false,
     "start_time": "2021-01-24T13:05:38.402138",
     "status": "completed"
    },
    "tags": []
   },
   "outputs": [
    {
     "name": "stdout",
     "output_type": "stream",
     "text": [
      "Step    0\n",
      "  input: 30 ('T')\n",
      "  expected output: 44 ('h')\n",
      "Step    1\n",
      "  input: 44 ('h')\n",
      "  expected output: 45 ('i')\n",
      "Step    2\n",
      "  input: 45 ('i')\n",
      "  expected output: 54 ('r')\n",
      "Step    3\n",
      "  input: 54 ('r')\n",
      "  expected output: 56 ('t')\n",
      "Step    4\n",
      "  input: 56 ('t')\n",
      "  expected output: 61 ('y')\n"
     ]
    }
   ],
   "source": [
    "for i, (input_idx, target_idx) in enumerate(zip(input_example[:5], target_example[:5])):\n",
    "    print(\"Step {:4d}\".format(i))\n",
    "    print(\"  input: {} ({:s})\".format(input_idx, repr(idx2char[input_idx])))\n",
    "    print(\"  expected output: {} ({:s})\".format(target_idx, repr(idx2char[target_idx])))"
   ]
  },
  {
   "cell_type": "markdown",
   "metadata": {
    "id": "vBa8KOIQX0v2",
    "papermill": {
     "duration": 0.030004,
     "end_time": "2021-01-24T13:05:38.807011",
     "exception": false,
     "start_time": "2021-01-24T13:05:38.777007",
     "status": "completed"
    },
    "tags": []
   },
   "source": [
    "## Creating training batches\n",
    "\n",
    "So we have now used tf.data to split the text into manageable sequences. But before feeding this data into the model, we need to shuffle the data and pack it into batches."
   ]
  },
  {
   "cell_type": "code",
   "execution_count": 11,
   "metadata": {
    "execution": {
     "iopub.execute_input": "2021-01-24T13:05:38.873216Z",
     "iopub.status.busy": "2021-01-24T13:05:38.872570Z",
     "iopub.status.idle": "2021-01-24T13:05:38.882808Z",
     "shell.execute_reply": "2021-01-24T13:05:38.882308Z"
    },
    "id": "eTYV_a94X0v2",
    "outputId": "88853ed6-be60-4288-a048-093b8d5b3e63",
    "papermill": {
     "duration": 0.04589,
     "end_time": "2021-01-24T13:05:38.882909",
     "exception": false,
     "start_time": "2021-01-24T13:05:38.837019",
     "status": "completed"
    },
    "tags": []
   },
   "outputs": [
    {
     "data": {
      "text/plain": [
       "<PrefetchDataset shapes: ((10, 100), (10, 100)), types: (tf.int64, tf.int64)>"
      ]
     },
     "execution_count": 11,
     "metadata": {},
     "output_type": "execute_result"
    }
   ],
   "source": [
    "# Batch size\n",
    "BATCH_SIZE  = 10\n",
    "\n",
    "## Buffer size to shuffle the dataset\n",
    "# (TF data is designed to work with possibly infinite sequences,\n",
    "# so it doesn't attempt to shuffle the entire sequence in memory. Instead,\n",
    "# it maintains a buffer in which it shuffles elements).\n",
    "BUFFER_SIZE = 10000\n",
    "\n",
    "\n",
    "dataset = (\n",
    "    dataset\n",
    "    .shuffle(BUFFER_SIZE)\n",
    "    .batch(BATCH_SIZE, drop_remainder=True)\n",
    "     .prefetch(tf.data.experimental.AUTOTUNE))\n",
    "\n",
    "dataset"
   ]
  },
  {
   "cell_type": "markdown",
   "metadata": {
    "id": "k5adhif5X0v3",
    "papermill": {
     "duration": 0.030225,
     "end_time": "2021-01-24T13:05:38.944081",
     "exception": false,
     "start_time": "2021-01-24T13:05:38.913856",
     "status": "completed"
    },
    "tags": []
   },
   "source": [
    "# Build the Model\n",
    "\n",
    "\n",
    "Words seen as vectors that need to be computed in the best way possible to capture the meaning of the word itself (this is called 'embedding').\n",
    "\n",
    "This is where Gated Recurrent Units or GRUs come in. These are cells that are able to 'remember' a certain number of previous words in a clever way. \n",
    "\n",
    "Finally, we use a dense layer with the logit output that gives info about the most probable word expected.\n",
    "\n",
    "## Model Description\n",
    "\n",
    "Use tf.keras.Sequential to define the model. For this simple example three layers are used to define our model:\n",
    "\n",
    "1. tf.keras.layers.Embedding: The input layer. A trainable lookup table that will map the numbers of each character to a vector with embedding_dim dimensions;\n",
    "2. tf.keras.layers.GRU: A type of RNN with size units=rnn_units. (Can also use an LSTM layer here).\n",
    "3. tf.keras.layers.Dense: The output layer, with vocab_size outputs."
   ]
  },
  {
   "cell_type": "code",
   "execution_count": 12,
   "metadata": {
    "execution": {
     "iopub.execute_input": "2021-01-24T13:05:39.016099Z",
     "iopub.status.busy": "2021-01-24T13:05:39.015495Z",
     "iopub.status.idle": "2021-01-24T13:05:39.304896Z",
     "shell.execute_reply": "2021-01-24T13:05:39.304150Z"
    },
    "id": "hYb2riARX0v3",
    "outputId": "a94b3700-9d81-48c7-d802-6d953da2ddc7",
    "papermill": {
     "duration": 0.328875,
     "end_time": "2021-01-24T13:05:39.305028",
     "exception": false,
     "start_time": "2021-01-24T13:05:38.976153",
     "status": "completed"
    },
    "tags": []
   },
   "outputs": [],
   "source": [
    "# Length of the vocabulary in characters\n",
    "vocab_size = len(vocab)\n",
    "\n",
    "# The embedding dimension\n",
    "embedding_dim = 256\n",
    "\n",
    "# Number of RNN units\n",
    "rnn_units = 1024\n",
    "\n",
    "def build_model(vocab_size, embedding_dim, rnn_units, batch_size):\n",
    "    \n",
    "    model = tf.keras.Sequential([\n",
    "        tf.keras.layers.Embedding(vocab_size, embedding_dim,\n",
    "                                  batch_input_shape=[batch_size, None]),\n",
    "        tf.keras.layers.GRU(rnn_units,\n",
    "                            return_sequences=True,\n",
    "                            stateful=True,\n",
    "                            recurrent_initializer='glorot_uniform'),\n",
    "        tf.keras.layers.Dense(vocab_size)\n",
    "    ])\n",
    "    return model\n",
    "\n",
    "model = build_model(\n",
    "    vocab_size=len(vocab),\n",
    "    embedding_dim=embedding_dim,\n",
    "    rnn_units=rnn_units,\n",
    "    batch_size=BATCH_SIZE)\n",
    "\n"
   ]
  },
  {
   "cell_type": "code",
   "execution_count": 13,
   "metadata": {
    "execution": {
     "iopub.execute_input": "2021-01-24T13:05:39.373869Z",
     "iopub.status.busy": "2021-01-24T13:05:39.372999Z",
     "iopub.status.idle": "2021-01-24T13:05:42.662404Z",
     "shell.execute_reply": "2021-01-24T13:05:42.661777Z"
    },
    "papermill": {
     "duration": 3.325766,
     "end_time": "2021-01-24T13:05:42.662539",
     "exception": false,
     "start_time": "2021-01-24T13:05:39.336773",
     "status": "completed"
    },
    "tags": []
   },
   "outputs": [
    {
     "name": "stdout",
     "output_type": "stream",
     "text": [
      "(10, 100, 65) # (batch_size, sequence_length, vocab_size)\n"
     ]
    }
   ],
   "source": [
    "for input_example_batch, target_example_batch in dataset.take(1):\n",
    "    example_batch_predictions = model(input_example_batch)\n",
    "    print(example_batch_predictions.shape,\"# (batch_size, sequence_length, vocab_size)\")"
   ]
  },
  {
   "cell_type": "code",
   "execution_count": 14,
   "metadata": {
    "execution": {
     "iopub.execute_input": "2021-01-24T13:05:42.738772Z",
     "iopub.status.busy": "2021-01-24T13:05:42.736921Z",
     "iopub.status.idle": "2021-01-24T13:05:42.741101Z",
     "shell.execute_reply": "2021-01-24T13:05:42.739346Z"
    },
    "id": "xgUypcCaX0v4",
    "papermill": {
     "duration": 0.045017,
     "end_time": "2021-01-24T13:05:42.741321",
     "exception": false,
     "start_time": "2021-01-24T13:05:42.696304",
     "status": "completed"
    },
    "tags": []
   },
   "outputs": [
    {
     "name": "stdout",
     "output_type": "stream",
     "text": [
      "Model: \"sequential\"\n",
      "_________________________________________________________________\n",
      "Layer (type)                 Output Shape              Param #   \n",
      "=================================================================\n",
      "embedding (Embedding)        (10, None, 256)           16640     \n",
      "_________________________________________________________________\n",
      "gru (GRU)                    (10, None, 1024)          3938304   \n",
      "_________________________________________________________________\n",
      "dense (Dense)                (10, None, 65)            66625     \n",
      "=================================================================\n",
      "Total params: 4,021,569\n",
      "Trainable params: 4,021,569\n",
      "Non-trainable params: 0\n",
      "_________________________________________________________________\n"
     ]
    }
   ],
   "source": [
    "model.summary()"
   ]
  },
  {
   "cell_type": "markdown",
   "metadata": {
    "id": "tY4Dbe87ZloK",
    "papermill": {
     "duration": 0.032037,
     "end_time": "2021-01-24T13:05:42.808063",
     "exception": false,
     "start_time": "2021-01-24T13:05:42.776026",
     "status": "completed"
    },
    "tags": []
   },
   "source": [
    "To get actual predictions from the model we need to sample from the output distribution, to get the correct character indices. This distribution is defined by the logits over the character vocabulary.\n",
    "\n",
    "Logits are the un-normalised raw predictions (outputs) of a model. We go on to use the softmax to compute the normalised score that each instance belongs to which class.\n",
    "\n",
    "Note: It is important to sample from this distribution as taking the argmax of the distribution can easily get the model stuck in a loop.\n",
    "\n",
    "Here is an example from the first batch:"
   ]
  },
  {
   "cell_type": "code",
   "execution_count": 15,
   "metadata": {
    "execution": {
     "iopub.execute_input": "2021-01-24T13:05:42.875043Z",
     "iopub.status.busy": "2021-01-24T13:05:42.874153Z",
     "iopub.status.idle": "2021-01-24T13:05:42.887338Z",
     "shell.execute_reply": "2021-01-24T13:05:42.886721Z"
    },
    "id": "N6uDWItwX0v4",
    "papermill": {
     "duration": 0.047738,
     "end_time": "2021-01-24T13:05:42.887450",
     "exception": false,
     "start_time": "2021-01-24T13:05:42.839712",
     "status": "completed"
    },
    "tags": []
   },
   "outputs": [],
   "source": [
    "sampled_indices = tf.random.categorical(example_batch_predictions[0], num_samples=1)\n",
    "sampled_indices = tf.squeeze(sampled_indices,axis=-1).numpy()"
   ]
  },
  {
   "cell_type": "markdown",
   "metadata": {
    "id": "IbuPpeA6Zxuq",
    "papermill": {
     "duration": 0.034108,
     "end_time": "2021-01-24T13:05:42.956582",
     "exception": false,
     "start_time": "2021-01-24T13:05:42.922474",
     "status": "completed"
    },
    "tags": []
   },
   "source": [
    "This gives us, at each timestep, a prediction of the next character index:\n",
    "\n"
   ]
  },
  {
   "cell_type": "code",
   "execution_count": 16,
   "metadata": {
    "execution": {
     "iopub.execute_input": "2021-01-24T13:05:43.028955Z",
     "iopub.status.busy": "2021-01-24T13:05:43.028339Z",
     "iopub.status.idle": "2021-01-24T13:05:43.035056Z",
     "shell.execute_reply": "2021-01-24T13:05:43.034578Z"
    },
    "id": "A6ExdtUVZMu7",
    "outputId": "2461ad85-1bb7-4708-e7a1-4d1b65603709",
    "papermill": {
     "duration": 0.04435,
     "end_time": "2021-01-24T13:05:43.035174",
     "exception": false,
     "start_time": "2021-01-24T13:05:42.990824",
     "status": "completed"
    },
    "tags": []
   },
   "outputs": [
    {
     "data": {
      "text/plain": [
       "array([31, 28, 33,  0, 23, 53,  9,  6,  9,  4, 60, 40, 38, 30, 24, 41,  1,\n",
       "       24,  9, 20, 13, 10,  9, 24, 29, 29, 13, 47, 37, 55, 45, 26,  5, 13,\n",
       "        8, 57, 49, 37,  4,  9,  6, 21, 27, 19, 29,  5, 63, 63, 40, 38, 33,\n",
       "       36, 10, 35,  9, 12, 51, 62, 37, 32, 15, 12, 14, 58, 38,  9, 17, 31,\n",
       "       49, 46, 46, 58, 23,  1, 52, 20, 49, 49,  2,  3, 55, 10, 45,  7, 34,\n",
       "       25, 38, 34, 32, 11, 44, 31, 34, 14, 46, 21, 11, 16, 16, 43])"
      ]
     },
     "execution_count": 16,
     "metadata": {},
     "output_type": "execute_result"
    }
   ],
   "source": [
    "sampled_indices"
   ]
  },
  {
   "cell_type": "markdown",
   "metadata": {
    "id": "aFdvoFI-Z7ug",
    "papermill": {
     "duration": 0.033721,
     "end_time": "2021-01-24T13:05:43.100899",
     "exception": false,
     "start_time": "2021-01-24T13:05:43.067178",
     "status": "completed"
    },
    "tags": []
   },
   "source": [
    "Decode these to see the text predicted by this untrained model:"
   ]
  },
  {
   "cell_type": "code",
   "execution_count": 17,
   "metadata": {
    "execution": {
     "iopub.execute_input": "2021-01-24T13:05:43.172865Z",
     "iopub.status.busy": "2021-01-24T13:05:43.172095Z",
     "iopub.status.idle": "2021-01-24T13:05:43.179941Z",
     "shell.execute_reply": "2021-01-24T13:05:43.180467Z"
    },
    "id": "Y4ehZTF7Z-9Q",
    "outputId": "5b5651b4-b55e-4053-f665-90d957985bfd",
    "papermill": {
     "duration": 0.046134,
     "end_time": "2021-01-24T13:05:43.180585",
     "exception": false,
     "start_time": "2021-01-24T13:05:43.134451",
     "status": "completed"
    },
    "tags": []
   },
   "outputs": [
    {
     "name": "stdout",
     "output_type": "stream",
     "text": [
      "Input: \n",
      " ' in the pines and the sun and bright moonlight Lazing in the sunlight yes indeed Sometimes when the '\n",
      "\n",
      "Next Char Predictions: \n",
      " 'URW Mq;-;(xdbTNe!N;JC?;NSSCkasiP)C:uma(;-KQIS)éédbWZ?Y;BozaVEBDvb;GUmjjvM!pJmm\"\\'s?i.XObXVAhUXDjKAFFg'\n"
     ]
    }
   ],
   "source": [
    "print(\"Input: \\n\", repr(\"\".join(idx2char[input_example_batch[0]])))\n",
    "print()\n",
    "print(\"Next Char Predictions: \\n\", repr(\"\".join(idx2char[sampled_indices ])))"
   ]
  },
  {
   "cell_type": "markdown",
   "metadata": {
    "id": "5_TQSB21aHGb",
    "papermill": {
     "duration": 0.032455,
     "end_time": "2021-01-24T13:05:43.245498",
     "exception": false,
     "start_time": "2021-01-24T13:05:43.213043",
     "status": "completed"
    },
    "tags": []
   },
   "source": [
    "# Train the model\n",
    "\n",
    "At this point the problem can be treated as a standard classification problem. Given the previous RNN state, and the input from this time step, the model predicts the class of the next character.\n",
    "\n",
    "We also attach an optimizer, and a loss function.\n",
    "\n",
    "The standard tf.keras.losses.sparse_categorical_crossentropy loss function works in this case because it is applied across the last dimension of the predictions.\n",
    "\n",
    "Because the model returns logits, we need to set the from_logits flag.\n",
    "\n",
    "\n"
   ]
  },
  {
   "cell_type": "code",
   "execution_count": 18,
   "metadata": {
    "execution": {
     "iopub.execute_input": "2021-01-24T13:05:43.319312Z",
     "iopub.status.busy": "2021-01-24T13:05:43.318452Z",
     "iopub.status.idle": "2021-01-24T13:05:43.335666Z",
     "shell.execute_reply": "2021-01-24T13:05:43.336348Z"
    },
    "id": "b0S272oKaN4H",
    "outputId": "3ed362e3-8853-42be-aa54-c78e14e93512",
    "papermill": {
     "duration": 0.057155,
     "end_time": "2021-01-24T13:05:43.336515",
     "exception": false,
     "start_time": "2021-01-24T13:05:43.279360",
     "status": "completed"
    },
    "tags": []
   },
   "outputs": [
    {
     "name": "stdout",
     "output_type": "stream",
     "text": [
      "Prediction shape:  (10, 100, 65)  # (batch_size, sequence_length, vocab_size)\n",
      "scalar_loss:       4.173676\n"
     ]
    }
   ],
   "source": [
    "def loss(labels, logits):\n",
    "    return tf.keras.losses.sparse_categorical_crossentropy(labels, logits, from_logits=True)\n",
    "\n",
    "example_batch_loss = loss(target_example_batch, example_batch_predictions)\n",
    "print(\"Prediction shape: \", example_batch_predictions.shape, \" # (batch_size, sequence_length, vocab_size)\")\n",
    "print(\"scalar_loss:      \", example_batch_loss.numpy().mean())"
   ]
  },
  {
   "cell_type": "markdown",
   "metadata": {
    "id": "yo1O7PZuad2o",
    "papermill": {
     "duration": 0.036359,
     "end_time": "2021-01-24T13:05:43.407107",
     "exception": false,
     "start_time": "2021-01-24T13:05:43.370748",
     "status": "completed"
    },
    "tags": []
   },
   "source": [
    "Now we configure the training procedure using the tf.keras.Model.compile method. Use tf.keras.optimizers.Adam with default arguments and the cross entropy loss function."
   ]
  },
  {
   "cell_type": "code",
   "execution_count": 19,
   "metadata": {
    "execution": {
     "iopub.execute_input": "2021-01-24T13:05:43.491928Z",
     "iopub.status.busy": "2021-01-24T13:05:43.491035Z",
     "iopub.status.idle": "2021-01-24T13:05:43.496939Z",
     "shell.execute_reply": "2021-01-24T13:05:43.497646Z"
    },
    "id": "gQgOnkYaaevN",
    "papermill": {
     "duration": 0.054423,
     "end_time": "2021-01-24T13:05:43.497785",
     "exception": false,
     "start_time": "2021-01-24T13:05:43.443362",
     "status": "completed"
    },
    "tags": []
   },
   "outputs": [],
   "source": [
    "model.compile(optimizer='adam', loss=loss, metrics=['accuracy'])"
   ]
  },
  {
   "cell_type": "markdown",
   "metadata": {
    "id": "uPly93yCajIz",
    "papermill": {
     "duration": 0.032935,
     "end_time": "2021-01-24T13:05:43.565449",
     "exception": false,
     "start_time": "2021-01-24T13:05:43.532514",
     "status": "completed"
    },
    "tags": []
   },
   "source": [
    "Configure checkpoints:\n",
    "\n",
    "Use a tf.keras.callbacks.ModelCheckpoint to ensure that weights are saved during training.\n",
    "\n",
    "Then we FIT THE DATA!\n"
   ]
  },
  {
   "cell_type": "code",
   "execution_count": 20,
   "metadata": {
    "execution": {
     "iopub.execute_input": "2021-01-24T13:05:43.642783Z",
     "iopub.status.busy": "2021-01-24T13:05:43.642190Z",
     "iopub.status.idle": "2021-01-24T13:06:55.318273Z",
     "shell.execute_reply": "2021-01-24T13:06:55.317209Z"
    },
    "id": "CjoqC_lMaxeO",
    "outputId": "4c28ce08-f0bc-486e-b5fa-40fe035921b9",
    "papermill": {
     "duration": 71.718021,
     "end_time": "2021-01-24T13:06:55.318403",
     "exception": false,
     "start_time": "2021-01-24T13:05:43.600382",
     "status": "completed"
    },
    "tags": []
   },
   "outputs": [
    {
     "name": "stdout",
     "output_type": "stream",
     "text": [
      "Epoch 1/30\n",
      "99/99 [==============================] - 2s 22ms/step - loss: 2.8585 - accuracy: 0.2753\n",
      "Epoch 2/30\n",
      "99/99 [==============================] - 2s 22ms/step - loss: 2.1396 - accuracy: 0.3931\n",
      "Epoch 3/30\n",
      "99/99 [==============================] - 2s 22ms/step - loss: 1.9607 - accuracy: 0.4365\n",
      "Epoch 4/30\n",
      "99/99 [==============================] - 2s 22ms/step - loss: 1.8182 - accuracy: 0.4710\n",
      "Epoch 5/30\n",
      "99/99 [==============================] - 2s 22ms/step - loss: 1.6926 - accuracy: 0.5054\n",
      "Epoch 6/30\n",
      "99/99 [==============================] - 2s 22ms/step - loss: 1.5763 - accuracy: 0.5352\n",
      "Epoch 7/30\n",
      "99/99 [==============================] - 2s 21ms/step - loss: 1.4599 - accuracy: 0.5677\n",
      "Epoch 8/30\n",
      "99/99 [==============================] - 2s 23ms/step - loss: 1.3505 - accuracy: 0.5990\n",
      "Epoch 9/30\n",
      "99/99 [==============================] - 2s 22ms/step - loss: 1.2330 - accuracy: 0.6326\n",
      "Epoch 10/30\n",
      "99/99 [==============================] - 2s 22ms/step - loss: 1.1065 - accuracy: 0.6699\n",
      "Epoch 11/30\n",
      "99/99 [==============================] - 2s 22ms/step - loss: 0.9737 - accuracy: 0.7105\n",
      "Epoch 12/30\n",
      "99/99 [==============================] - 2s 22ms/step - loss: 0.8338 - accuracy: 0.7555\n",
      "Epoch 13/30\n",
      "99/99 [==============================] - 2s 23ms/step - loss: 0.7062 - accuracy: 0.7999\n",
      "Epoch 14/30\n",
      "99/99 [==============================] - 2s 23ms/step - loss: 0.5850 - accuracy: 0.8423\n",
      "Epoch 15/30\n",
      "99/99 [==============================] - 2s 23ms/step - loss: 0.4874 - accuracy: 0.8762\n",
      "Epoch 16/30\n",
      "99/99 [==============================] - 2s 22ms/step - loss: 0.4124 - accuracy: 0.9021\n",
      "Epoch 17/30\n",
      "99/99 [==============================] - 2s 22ms/step - loss: 0.3541 - accuracy: 0.9193\n",
      "Epoch 18/30\n",
      "99/99 [==============================] - 2s 22ms/step - loss: 0.3169 - accuracy: 0.9306\n",
      "Epoch 19/30\n",
      "99/99 [==============================] - 2s 23ms/step - loss: 0.2919 - accuracy: 0.9371\n",
      "Epoch 20/30\n",
      "99/99 [==============================] - 2s 22ms/step - loss: 0.2701 - accuracy: 0.9439\n",
      "Epoch 21/30\n",
      "99/99 [==============================] - 2s 22ms/step - loss: 0.2528 - accuracy: 0.9483\n",
      "Epoch 22/30\n",
      "99/99 [==============================] - 2s 24ms/step - loss: 0.2417 - accuracy: 0.9511\n",
      "Epoch 23/30\n",
      "99/99 [==============================] - 2s 21ms/step - loss: 0.2327 - accuracy: 0.9529\n",
      "Epoch 24/30\n",
      "99/99 [==============================] - 2s 21ms/step - loss: 0.2253 - accuracy: 0.9539\n",
      "Epoch 25/30\n",
      "99/99 [==============================] - 2s 21ms/step - loss: 0.2179 - accuracy: 0.9563\n",
      "Epoch 26/30\n",
      "99/99 [==============================] - 2s 22ms/step - loss: 0.2117 - accuracy: 0.9576\n",
      "Epoch 27/30\n",
      "99/99 [==============================] - 2s 22ms/step - loss: 0.2092 - accuracy: 0.9574\n",
      "Epoch 28/30\n",
      "99/99 [==============================] - 2s 21ms/step - loss: 0.2007 - accuracy: 0.9589\n",
      "Epoch 29/30\n",
      "99/99 [==============================] - 2s 21ms/step - loss: 0.1998 - accuracy: 0.9592\n",
      "Epoch 30/30\n",
      "99/99 [==============================] - 2s 21ms/step - loss: 0.2002 - accuracy: 0.9600\n"
     ]
    }
   ],
   "source": [
    "\n",
    "\n",
    "# Directory where the checkpoints will be saved\n",
    "checkpoint_dir = './training_checkpoints/'\n",
    "\n",
    "# Name of the checkpoint files\n",
    "checkpoint_prefix = os.path.join(checkpoint_dir, \"ckpt_{epoch}\")\n",
    "checkpoint_callback = tf.keras.callbacks.ModelCheckpoint(\n",
    "    filepath=checkpoint_prefix,\n",
    "    save_weights_only=True,\n",
    "monitor ='val_accuracy')\n",
    "\n",
    "\n",
    "EPOCHS = 30\n",
    "\n",
    "history = model.fit(dataset, epochs=EPOCHS, callbacks=[checkpoint_callback])\n",
    "\n",
    "\n"
   ]
  },
  {
   "cell_type": "markdown",
   "metadata": {
    "id": "lSv_bf8pbKw0",
    "papermill": {
     "duration": 0.404851,
     "end_time": "2021-01-24T13:06:56.139004",
     "exception": false,
     "start_time": "2021-01-24T13:06:55.734153",
     "status": "completed"
    },
    "tags": []
   },
   "source": [
    "# Generate text\n",
    "Restore the latest checkpoint.\n",
    "\n",
    "To keep this prediction step simple, use a batch size of 1.\n",
    "\n",
    "Because of the way the RNN state is passed from timestep to timestep, the model only accepts a fixed batch size once built.\n",
    "\n",
    "To run the model with a different batch_size, we would need to rebuild the model and restore the weights from the checkpoint.\n",
    "\n",
    "\n"
   ]
  },
  {
   "cell_type": "code",
   "execution_count": 21,
   "metadata": {
    "execution": {
     "iopub.execute_input": "2021-01-24T13:06:56.947277Z",
     "iopub.status.busy": "2021-01-24T13:06:56.946612Z",
     "iopub.status.idle": "2021-01-24T13:06:56.952259Z",
     "shell.execute_reply": "2021-01-24T13:06:56.952944Z"
    },
    "id": "JaKi_LvhbNnJ",
    "papermill": {
     "duration": 0.412615,
     "end_time": "2021-01-24T13:06:56.953092",
     "exception": false,
     "start_time": "2021-01-24T13:06:56.540477",
     "status": "completed"
    },
    "tags": []
   },
   "outputs": [
    {
     "data": {
      "text/plain": [
       "'./training_checkpoints/ckpt_30'"
      ]
     },
     "execution_count": 21,
     "metadata": {},
     "output_type": "execute_result"
    }
   ],
   "source": [
    "tf.train.latest_checkpoint(checkpoint_dir)\n"
   ]
  },
  {
   "cell_type": "code",
   "execution_count": 22,
   "metadata": {
    "execution": {
     "iopub.execute_input": "2021-01-24T13:06:57.794209Z",
     "iopub.status.busy": "2021-01-24T13:06:57.792281Z",
     "iopub.status.idle": "2021-01-24T13:06:58.176553Z",
     "shell.execute_reply": "2021-01-24T13:06:58.175785Z"
    },
    "id": "B5bP9R5fejiR",
    "papermill": {
     "duration": 0.80587,
     "end_time": "2021-01-24T13:06:58.176735",
     "exception": false,
     "start_time": "2021-01-24T13:06:57.370865",
     "status": "completed"
    },
    "tags": []
   },
   "outputs": [],
   "source": [
    "\n",
    "model = build_model(vocab_size, embedding_dim, rnn_units, batch_size=1)\n",
    "\n",
    "model.load_weights(tf.train.latest_checkpoint(checkpoint_dir))\n",
    "\n",
    "model.build(tf.TensorShape([1, None]))"
   ]
  },
  {
   "cell_type": "code",
   "execution_count": 23,
   "metadata": {
    "execution": {
     "iopub.execute_input": "2021-01-24T13:06:59.101584Z",
     "iopub.status.busy": "2021-01-24T13:06:59.098524Z",
     "iopub.status.idle": "2021-01-24T13:06:59.103911Z",
     "shell.execute_reply": "2021-01-24T13:06:59.102135Z"
    },
    "id": "Zjf8OtHebUOC",
    "papermill": {
     "duration": 0.413205,
     "end_time": "2021-01-24T13:06:59.104102",
     "exception": false,
     "start_time": "2021-01-24T13:06:58.690897",
     "status": "completed"
    },
    "tags": []
   },
   "outputs": [
    {
     "name": "stdout",
     "output_type": "stream",
     "text": [
      "Model: \"sequential_1\"\n",
      "_________________________________________________________________\n",
      "Layer (type)                 Output Shape              Param #   \n",
      "=================================================================\n",
      "embedding_1 (Embedding)      (1, None, 256)            16640     \n",
      "_________________________________________________________________\n",
      "gru_1 (GRU)                  (1, None, 1024)           3938304   \n",
      "_________________________________________________________________\n",
      "dense_1 (Dense)              (1, None, 65)             66625     \n",
      "=================================================================\n",
      "Total params: 4,021,569\n",
      "Trainable params: 4,021,569\n",
      "Non-trainable params: 0\n",
      "_________________________________________________________________\n"
     ]
    }
   ],
   "source": [
    "model.summary()"
   ]
  },
  {
   "cell_type": "markdown",
   "metadata": {
    "id": "RHeP2y1qeoT8",
    "papermill": {
     "duration": 0.399593,
     "end_time": "2021-01-24T13:06:59.948464",
     "exception": false,
     "start_time": "2021-01-24T13:06:59.548871",
     "status": "completed"
    },
    "tags": []
   },
   "source": [
    "## The prediction loop\n",
    "\n",
    "The following code block generates the lyric text.\n",
    "\n",
    "We begin by choosing a start string, which initializes the RNN state, and also set the number of characters we want to generate.\n",
    "\n",
    "Then we get the prediction distribution of the next character using the start string and the RNN state.\n",
    "\n",
    "Using a categorical distribution, the model calculates the index of the predicted character, which is then used as the next input to the model.\n",
    "\n",
    "The RNN state returned by the model is fed back into the model so that it now has more context, instead of only one character. \n",
    "\n",
    "After predicting the next character, the modified RNN states are again fed back into the model, which is how it learns as it gets more context from the previously predicted characters."
   ]
  },
  {
   "cell_type": "code",
   "execution_count": 24,
   "metadata": {
    "execution": {
     "iopub.execute_input": "2021-01-24T13:07:00.762537Z",
     "iopub.status.busy": "2021-01-24T13:07:00.760705Z",
     "iopub.status.idle": "2021-01-24T13:07:00.763283Z",
     "shell.execute_reply": "2021-01-24T13:07:00.763761Z"
    },
    "id": "w1Q80676enaz",
    "papermill": {
     "duration": 0.414823,
     "end_time": "2021-01-24T13:07:00.763884",
     "exception": false,
     "start_time": "2021-01-24T13:07:00.349061",
     "status": "completed"
    },
    "tags": []
   },
   "outputs": [],
   "source": [
    "def generate_text(model, start_string, t):\n",
    "    # Evaluation step (generating text using the learned model)\n",
    "\n",
    "    # Number of characters to generate\n",
    "    num_generate = 450\n",
    "\n",
    "    # Converting our start string to numbers (vectorizing)\n",
    "    input_eval = [char2idx[s] for s in start_string]\n",
    "    input_eval = tf.expand_dims(input_eval, 0)\n",
    "\n",
    "    # Empty string to store our results\n",
    "    text_generated = []\n",
    "\n",
    "    # Low temperature results in more predictable text.\n",
    "    # Higher temperature results in more surprising text.\n",
    "    # Experiment to find the best setting.\n",
    "    temperature = t\n",
    "\n",
    "    # Here batch size == 1\n",
    "    model.reset_states()\n",
    "    for i in range(num_generate):\n",
    "        predictions = model(input_eval)\n",
    "        # remove the batch dimension\n",
    "        predictions = tf.squeeze(predictions, 0)\n",
    "\n",
    "        # using a categorical distribution to predict the character returned by the model\n",
    "        predictions = predictions / temperature\n",
    "        predicted_id = tf.random.categorical(predictions, num_samples=1)[-1,0].numpy()\n",
    "\n",
    "        # Pass the predicted character as the next input to the model\n",
    "        # along with the previous hidden state\n",
    "        input_eval = tf.expand_dims([predicted_id], 0)\n",
    "\n",
    "        text_generated.append(idx2char[predicted_id])\n",
    "        \n",
    "        #Attempt to present string in lyric format with new line after each capital letter\n",
    "        text_join = (start_string + ''.join(text_generated))\n",
    "        result = re.sub( r\"\\s(?=[A-Z])\", r\" \\n\", text_join)\n",
    "    return result\n",
    "    "
   ]
  },
  {
   "cell_type": "code",
   "execution_count": 25,
   "metadata": {
    "execution": {
     "iopub.execute_input": "2021-01-24T13:07:01.631918Z",
     "iopub.status.busy": "2021-01-24T13:07:01.631055Z",
     "iopub.status.idle": "2021-01-24T13:07:03.702786Z",
     "shell.execute_reply": "2021-01-24T13:07:03.703304Z"
    },
    "id": "r8iWT2UfezIi",
    "outputId": "504348f2-7bae-4ebd-a2d5-16a62b807799",
    "papermill": {
     "duration": 2.474856,
     "end_time": "2021-01-24T13:07:03.703449",
     "exception": false,
     "start_time": "2021-01-24T13:07:01.228593",
     "status": "completed"
    },
    "tags": []
   },
   "outputs": [
    {
     "name": "stdout",
     "output_type": "stream",
     "text": [
      "Mountains that rise above the plain \n",
      "Wave away my confusion \n",
      "That drives this delusion \n",
      "So long \n",
      "I forgottann stars \n",
      "Don't you cry \n",
      "Dry your eyes on the wind \n",
      "La da da da da \n",
      "All \n",
      "I know is something like a bird within her sang \n",
      "All \n",
      "I know she sang a little while and then flew on \n",
      "Tell me all that you know \n",
      "I'll show you \n",
      "Snow and rain \n",
      "When the last rose of summer pricks my fingers \n",
      "And the hot sun chills me to the \n",
      "Chorus \n",
      "That's loose on the town \n",
      "Take a whole pail of \n"
     ]
    }
   ],
   "source": [
    "print(generate_text(model, start_string= \"Mountain\", t = 0.4))"
   ]
  },
  {
   "cell_type": "code",
   "execution_count": null,
   "metadata": {
    "papermill": {
     "duration": 0.406421,
     "end_time": "2021-01-24T13:07:04.524493",
     "exception": false,
     "start_time": "2021-01-24T13:07:04.118072",
     "status": "completed"
    },
    "tags": []
   },
   "outputs": [],
   "source": []
  }
 ],
 "metadata": {
  "kernelspec": {
   "display_name": "Python 3",
   "language": "python",
   "name": "python3"
  },
  "language_info": {
   "codemirror_mode": {
    "name": "ipython",
    "version": 3
   },
   "file_extension": ".py",
   "mimetype": "text/x-python",
   "name": "python",
   "nbconvert_exporter": "python",
   "pygments_lexer": "ipython3",
   "version": "3.7.6"
  },
  "papermill": {
   "duration": 104.123384,
   "end_time": "2021-01-24T13:07:06.561735",
   "environment_variables": {},
   "exception": null,
   "input_path": "__notebook__.ipynb",
   "output_path": "__notebook__.ipynb",
   "parameters": {},
   "start_time": "2021-01-24T13:05:22.438351",
   "version": "2.1.0"
  }
 },
 "nbformat": 4,
 "nbformat_minor": 4
}
